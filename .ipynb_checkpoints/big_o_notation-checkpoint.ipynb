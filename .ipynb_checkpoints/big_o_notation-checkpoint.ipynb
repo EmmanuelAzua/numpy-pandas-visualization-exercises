{
 "cells": [
  {
   "cell_type": "code",
   "execution_count": 2,
   "metadata": {},
   "outputs": [],
   "source": [
    "# Make a new Jupyter notebook named big_o_notation.ipynb\n",
    "\n",
    "# Title your chart \"Big O Notation\"\n",
    "# Label your x axis \"Elements\"\n",
    "# Label your y axis \"Operations\"\n",
    "# Label your curves or make a legend for the curves\n",
    "# Use LaTex notation where possible\n",
    "# Curves to graph:\n",
    "\n",
    "# y = 0n + 1 and label the curve \"O(1)\"\n",
    "# y = log(n) and label the curve \"O(log n)\"\n",
    "# y = n and label the curve \"O(n)\"\n",
    "# y = n*log(n) and label it \"O(n log n)\"\n",
    "# y = n**2 and label it \"O(n^2)\"\n",
    "# y = 2**n and label it \"O(2^n)\"\n",
    "# y = n! and label it \"O(n!)\"\n",
    "# y = n**n and label it \"O(n^n)\"\n",
    "\n",
    "import matplotlib.pyplot as plt"
   ]
  },
  {
   "cell_type": "code",
   "execution_count": 3,
   "metadata": {},
   "outputs": [
    {
     "name": "stdout",
     "output_type": "stream",
     "text": [
      "<module 'matplotlib.pyplot' from '/usr/local/anaconda3/lib/python3.8/site-packages/matplotlib/pyplot.py'>\n"
     ]
    }
   ],
   "source": [
    "print(plt)"
   ]
  },
  {
   "cell_type": "code",
   "execution_count": 10,
   "metadata": {},
   "outputs": [],
   "source": [
    "import math"
   ]
  },
  {
   "cell_type": "code",
   "execution_count": 16,
   "metadata": {},
   "outputs": [
    {
     "name": "stdout",
     "output_type": "stream",
     "text": [
      "<module 'math' from '/usr/local/anaconda3/lib/python3.8/lib-dynload/math.cpython-38-darwin.so'>\n"
     ]
    }
   ],
   "source": [
    "print(math)"
   ]
  },
  {
   "cell_type": "code",
   "execution_count": 37,
   "metadata": {},
   "outputs": [
    {
     "data": {
      "text/plain": [
       "<matplotlib.legend.Legend at 0x7ff3ceea5340>"
      ]
     },
     "execution_count": 37,
     "metadata": {},
     "output_type": "execute_result"
    },
    {
     "data": {
      "image/png": "[encoded data removed]",
      "text/plain": [
       "<Figure size 432x288 with 1 Axes>"
      ]
     },
     "metadata": {
      "needs_background": "light"
     },
     "output_type": "display_data"
    }
   ],
   "source": [
    "x = list(range(100))\n",
    "\n",
    "plt.title(\"Big O Notation\")\n",
    "\n",
    "y1 = [((0 * n) + 1) for n in x]\n",
    "plt.plot(x,y1, label = \"$O(1)$\")\n",
    "\n",
    "# y2 = [math.log(n) for n in x]\n",
    "# plt.plot(x,y2, label = \"$O(log n)$\")\n",
    "\n",
    "y3 = [n for n in x]\n",
    "plt.plot(x,y3, label = \"$O(n)$\")\n",
    "\n",
    "y4 = [(n*)]\n",
    "\n",
    "# plt.xticks(x, \"Elements\", rotation = 45)\n",
    "# plt.yticks(y, \"Oppertions\")\n",
    "\n",
    "plt.legend()\n"
   ]
  },
  {
   "cell_type": "code",
   "execution_count": 29,
   "metadata": {},
   "outputs": [
    {
     "data": {
      "text/plain": [
       "4.605170185988092"
      ]
     },
     "execution_count": 29,
     "metadata": {},
     "output_type": "execute_result"
    }
   ],
   "source": []
  }
 ],
 "metadata": {
  "kernelspec": {
   "display_name": "Python 3",
   "language": "python",
   "name": "python3"
  },
  "language_info": {
   "codemirror_mode": {
    "name": "ipython",
    "version": 3
   },
   "file_extension": ".py",
   "mimetype": "text/x-python",
   "name": "python",
   "nbconvert_exporter": "python",
   "pygments_lexer": "ipython3",
   "version": "3.8.5"
  }
 },
 "nbformat": 4,
 "nbformat_minor": 4
}

{
 "cells": [
  {
   "cell_type": "code",
   "execution_count": 12,
   "metadata": {},
   "outputs": [],
   "source": [
    "import pandas as pd\n",
    "import numpy as np"
   ]
  },
  {
   "cell_type": "code",
   "execution_count": 13,
   "metadata": {},
   "outputs": [],
   "source": [
    "fruits_series = pd.Series([\"kiwi\", \"mango\", \"strawberry\", \"pineapple\", \"gala apple\", \"honeycrisp apple\", \"tomato\", \"watermelon\", \"honeydew\", \"kiwi\", \"kiwi\", \"kiwi\", \"mango\", \"blueberry\", \"blackberry\", \"gooseberry\", \"papaya\"])"
   ]
  },
  {
   "cell_type": "code",
   "execution_count": 3,
   "metadata": {},
   "outputs": [],
   "source": [
    "def countvowels(list):\n",
    "    num_vowels = 0\n",
    "    most_vowels = \"\"\n",
    "    for str in list:\n",
    "        count = 0\n",
    "        if char in [\"aeiouAEIOU\"]:\n",
    "            count += 1\n",
    "    if count > num_vowels:\n",
    "        num_vowels = count\n",
    "        most_vowels = str"
   ]
  },
  {
   "cell_type": "code",
   "execution_count": 14,
   "metadata": {},
   "outputs": [],
   "source": [
    "def countvowels(list):\n",
    "    num_vowels = 0\n",
    "    most_vowels = \"\"\n",
    "    for str in list:\n",
    "        count = 0\n",
    "        if char in str in [\"aeiouAEIOU\"]:\n",
    "            count += 1\n",
    "    if count > num_vowels:\n",
    "        num_vowels = count\n",
    "        most_vowels = str"
   ]
  },
  {
   "cell_type": "code",
   "execution_count": 22,
   "metadata": {},
   "outputs": [],
   "source": [
    "def most_vowels(list):\n",
    "\n",
    "    largest_count = 0\n",
    "\n",
    "    largest_vowel_word = \"\"\n",
    "\n",
    "    vowels = [\"a\", \"e\", \"i\", \"o\", \"u\"]\n",
    "\n",
    "    for word in list:\n",
    "\n",
    "        count = 0\n",
    "\n",
    "        for char in word:\n",
    "\n",
    "            if char in vowels:\n",
    "\n",
    "                count += 1\n",
    "\n",
    "        \n",
    "\n",
    "        if count > largest_count:\n",
    "\n",
    "            largest_count = count\n",
    "\n",
    "            largest_vowel_word = word\n",
    "            return largest_vowel_word"
   ]
  },
  {
   "cell_type": "code",
   "execution_count": 23,
   "metadata": {},
   "outputs": [
    {
     "data": {
      "text/plain": [
       "'kiwi'"
      ]
     },
     "execution_count": 23,
     "metadata": {},
     "output_type": "execute_result"
    }
   ],
   "source": [
    "most_vowels(fruits_series)"
   ]
  },
  {
   "cell_type": "code",
   "execution_count": 21,
   "metadata": {},
   "outputs": [
    {
     "data": {
      "text/plain": [
       "0                 kiwi\n",
       "1                mango\n",
       "2           strawberry\n",
       "3            pineapple\n",
       "4           gala apple\n",
       "5     honeycrisp apple\n",
       "6               tomato\n",
       "7           watermelon\n",
       "8             honeydew\n",
       "9                 kiwi\n",
       "10                kiwi\n",
       "11                kiwi\n",
       "12               mango\n",
       "13           blueberry\n",
       "14          blackberry\n",
       "15          gooseberry\n",
       "16              papaya\n",
       "dtype: object"
      ]
     },
     "execution_count": 21,
     "metadata": {},
     "output_type": "execute_result"
    }
   ],
   "source": [
    "fruits_series"
   ]
  }
 ],
 "metadata": {
  "kernelspec": {
   "display_name": "Python 3",
   "language": "python",
   "name": "python3"
  },
  "language_info": {
   "codemirror_mode": {
    "name": "ipython",
    "version": 3
   },
   "file_extension": ".py",
   "mimetype": "text/x-python",
   "name": "python",
   "nbconvert_exporter": "python",
   "pygments_lexer": "ipython3",
   "version": "3.8.5"
  }
 },
 "nbformat": 4,
 "nbformat_minor": 4
}
